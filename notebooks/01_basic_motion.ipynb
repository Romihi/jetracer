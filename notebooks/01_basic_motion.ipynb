{
 "cells": [
  {
   "cell_type": "markdown",
   "metadata": {},
   "source": [
    "ここでは、RCカーを台の上に置いて、タイヤが空転するようにします。\n",
    "RCカーの電源をOnにし、プロポの後ろのボタンを押して、AIモードに切替えます(LEDが紫色に転送する)"
   ]
  },
  {
   "cell_type": "markdown",
   "metadata": {},
   "source": [
    "``NvidiaRacecar``クラスを読み込むために、下記のコードの部分を選択し、`Ctrl + Enter`で実行します。"
   ]
  },
  {
   "cell_type": "code",
   "execution_count": 1,
   "metadata": {},
   "outputs": [],
   "source": [
    "from jetracer.nvidia_racecar import NvidiaRacecar\n",
    "\n",
    "car = NvidiaRacecar()"
   ]
  },
  {
   "cell_type": "markdown",
   "metadata": {},
   "source": [
    "``NvidiaRacecar`` は、``Racecar`` クラスに実装されており, 2つの属性を``throttle``と ``steering``の変数が定義されています。"
   ]
  },
  {
   "cell_type": "markdown",
   "metadata": {},
   "source": [
    "# ステアリングの調整\n",
    "\n",
    "これらの変数には、``[-1, 1]``の範囲で値は設定する事ができます。それでは、``steering``の値を0.4に設定してみましょう。前輪が指定した値の場所に曲がります。\n",
    "\n",
    "> レスポンスがない場合は、LEDが紫に点灯しているか、RCカーの電源がONになっているか確認してください"
   ]
  },
  {
   "cell_type": "code",
   "execution_count": 25,
   "metadata": {},
   "outputs": [],
   "source": [
    "car.steering = 0.15 #0.4centre M8:0.15\n",
    "#car.steering = 0.9 #-0.6:R M8:0.9\n",
    "#car.steering =  -0.6 #-1:L M8:-0.65\n"
   ]
  },
  {
   "cell_type": "markdown",
   "metadata": {},
   "source": [
    "### ``NvidiaRacecar``クラスは、ステアリングのキャリブレーションで使える``steering_gain`` と``steering_bias`` の2つの変数を保持しています。\n",
    "\n",
    "それでは、下記のセルを実行し、defaultで設定されている値を見てみましょう。"
   ]
  },
  {
   "cell_type": "code",
   "execution_count": 28,
   "metadata": {},
   "outputs": [
    {
     "name": "stdout",
     "output_type": "stream",
     "text": [
      "0.75\n"
     ]
    }
   ],
   "source": [
    "print(car.steering_gain)"
   ]
  },
  {
   "cell_type": "code",
   "execution_count": 29,
   "metadata": {},
   "outputs": [
    {
     "name": "stdout",
     "output_type": "stream",
     "text": [
      "-0.15\n"
     ]
    }
   ],
   "source": [
    "print(car.steering_offset)"
   ]
  },
  {
   "cell_type": "markdown",
   "metadata": {},
   "source": [
    "最終的なステアリングの値は、下記式で計算されます。\n",
    "$y = a \\times x + b$\n",
    "\n",
    "Where,\n",
    "\n",
    "* $a$が``car.steering_gain``の値\n",
    "* $b$が``car.steering_offset``の値\n",
    "* $x$が``car.steering``の値\n",
    "* $y$が最終的な値です。\n",
    "\n",
    "これらの値を調整することで、「0」を設定すると真ん中に、「-1」を設定すると右に、「1」を設定すると左に進むように車を調整することができます。\n",
    "\n",
    "タミヤのRCカーでは、``car.steering_offset``を-0.1に設定するとタイヤが真ん中に移動します。``car.steering_offset``を-0.1に設定し、``car.steering``の値を書き直し、左右真ん中にハンドルが切られる事を確認します。"
   ]
  },
  {
   "cell_type": "code",
   "execution_count": 26,
   "metadata": {},
   "outputs": [],
   "source": [
    "#N=0.25\n",
    "car.steering_gain=0.75 #a 0.32"
   ]
  },
  {
   "cell_type": "code",
   "execution_count": 27,
   "metadata": {},
   "outputs": [],
   "source": [
    "car.steering_offset = -0.15 #b  0.25"
   ]
  },
  {
   "cell_type": "code",
   "execution_count": 50,
   "metadata": {},
   "outputs": [],
   "source": [
    "car.steering = 0"
   ]
  },
  {
   "cell_type": "code",
   "execution_count": 54,
   "metadata": {},
   "outputs": [],
   "source": [
    "#car.steering = 0.4 #0.4centre\n",
    "#car.steering = -1.0 #-0.6:R\n",
    "car.steering =  1.0 #-1:L\n"
   ]
  },
  {
   "cell_type": "markdown",
   "metadata": {},
   "source": [
    "# スロットルの調整"
   ]
  },
  {
   "cell_type": "markdown",
   "metadata": {},
   "source": [
    "タミヤのRCカーでは、``car.throttle``の値を-0.1に設定すると停止し、約-0.18以下に設定すると全身し始めます。一度 -0.1に設定し、-0.2に値を変えてタイヤが回転するのを確認し、再び -0.1に戻します。"
   ]
  },
  {
   "cell_type": "code",
   "execution_count": 65,
   "metadata": {},
   "outputs": [],
   "source": [
    "car.throttle = 0.0\n",
    "\n"
   ]
  },
  {
   "cell_type": "code",
   "execution_count": 60,
   "metadata": {},
   "outputs": [],
   "source": [
    "car.throttle = -0.4"
   ]
  },
  {
   "cell_type": "markdown",
   "metadata": {},
   "source": [
    "スロットルの値は、speedで使えるゲインを設定する事が可能です。 スロットルは下記の計算式で計算されます。\n",
    "\n",
    "$y = a \\times x$\n",
    "\n",
    "Where,\n",
    "\n",
    "* $a$ は ``car.throttle_gain``の値\n",
    "* $x$ は ``car.throttle``の値\n",
    "* $y$ が速度の値\n"
   ]
  },
  {
   "cell_type": "markdown",
   "metadata": {},
   "source": [
    "defaultのゲイン値を表示してみます。"
   ]
  },
  {
   "cell_type": "code",
   "execution_count": 66,
   "metadata": {},
   "outputs": [
    {
     "name": "stdout",
     "output_type": "stream",
     "text": [
      "0.8\n"
     ]
    }
   ],
   "source": [
    "print(car.throttle_gain)"
   ]
  },
  {
   "cell_type": "markdown",
   "metadata": {},
   "source": [
    "下記値を0.5にすると速度は半分になります。"
   ]
  },
  {
   "cell_type": "code",
   "execution_count": 126,
   "metadata": {},
   "outputs": [],
   "source": [
    "car.throttle_gain = -0.8"
   ]
  },
  {
   "cell_type": "markdown",
   "metadata": {},
   "source": [
    "スロットルはRCカーに直接マッピングされていますので、ご注意ください。 停車中にスロットルを-0.1以上の範囲で設定すると、後退します。 車が前進しているときにスロットルを-0.1以上のに設定すると、ブレーキがかかります。"
   ]
  },
  {
   "cell_type": "code",
   "execution_count": 217,
   "metadata": {},
   "outputs": [],
   "source": [
    "car.throttle_gain = 1"
   ]
  },
  {
   "cell_type": "code",
   "execution_count": 224,
   "metadata": {},
   "outputs": [],
   "source": [
    "car.throttle = 0"
   ]
  },
  {
   "cell_type": "code",
   "execution_count": 235,
   "metadata": {},
   "outputs": [],
   "source": [
    "car.throttle = 0.2"
   ]
  },
  {
   "cell_type": "code",
   "execution_count": 220,
   "metadata": {},
   "outputs": [],
   "source": [
    "car.throttle = 1\n"
   ]
  },
  {
   "cell_type": "code",
   "execution_count": 211,
   "metadata": {},
   "outputs": [],
   "source": [
    "car.throttle_offset=3.0"
   ]
  },
  {
   "cell_type": "code",
   "execution_count": null,
   "metadata": {},
   "outputs": [],
   "source": []
  }
 ],
 "metadata": {
  "kernelspec": {
   "display_name": "Python 3",
   "language": "python",
   "name": "python3"
  },
  "language_info": {
   "codemirror_mode": {
    "name": "ipython",
    "version": 3
   },
   "file_extension": ".py",
   "mimetype": "text/x-python",
   "name": "python",
   "nbconvert_exporter": "python",
   "pygments_lexer": "ipython3",
   "version": "3.6.9"
  }
 },
 "nbformat": 4,
 "nbformat_minor": 4
}
