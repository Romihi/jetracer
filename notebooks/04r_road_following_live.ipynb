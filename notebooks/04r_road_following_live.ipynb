{
 "cells": [
  {
   "cell_type": "markdown",
   "metadata": {},
   "source": [
    "# 自動走行(カメラあり)\n",
    "\n",
    "※　ネットワーク環境によっては遅延が発生します。"
   ]
  },
  {
   "cell_type": "markdown",
   "metadata": {},
   "source": [
    "TensorRTに変換したモデルを読み込みます。"
   ]
  },
  {
   "cell_type": "code",
   "execution_count": 1,
   "metadata": {
    "tags": []
   },
   "outputs": [
    {
     "data": {
      "text/plain": [
       "<All keys matched successfully>"
      ]
     },
     "execution_count": 1,
     "metadata": {},
     "output_type": "execute_result"
    }
   ],
   "source": [
    "import torch\n",
    "from torch2trt import TRTModule\n",
    "\n",
    "model_trt = TRTModule()\n",
    "model_trt.load_state_dict(torch.load('model_trt.pth'))\n",
    "\n",
    "model_trt_1 = TRTModule()\n",
    "model_trt_1.load_state_dict(torch.load('model_trt-Copy1.pth'))\n"
   ]
  },
  {
   "cell_type": "code",
   "execution_count": 2,
   "metadata": {
    "tags": []
   },
   "outputs": [
    {
     "name": "stdout",
     "output_type": "stream",
     "text": [
      "test\n"
     ]
    }
   ],
   "source": [
    "from jetracer.nvidia_racecar import NvidiaRacecar\n",
    "car = NvidiaRacecar()\n",
    "\n",
    "from jetcam.csi_camera import CSICamera\n",
    "camera = CSICamera(width=224, height=224, capture_fps=60)"
   ]
  },
  {
   "cell_type": "markdown",
   "metadata": {},
   "source": [
    "widgetでCameraのOn/Offを調整できるようにします。"
   ]
  },
  {
   "cell_type": "code",
   "execution_count": 3,
   "metadata": {},
   "outputs": [],
   "source": [
    "import cv2\n",
    "import ipywidgets\n",
    "import threading\n",
    "\n",
    "state_widget = ipywidgets.ToggleButtons(options=['On', 'Off'], description='Camera', value='On')\n",
    "prediction_widget = ipywidgets.Image(format='jpeg', width=camera.width, height=camera.height)\n",
    "\n",
    "live_execution_widget = ipywidgets.VBox([\n",
    "    prediction_widget,\n",
    "    state_widget\n",
    "])"
   ]
  },
  {
   "cell_type": "markdown",
   "metadata": {},
   "source": [
    "クルマを走らせる前に、スライドバーのゲインやオフセットを準備して、走行中に調整できるようにしておきましょう。"
   ]
  },
  {
   "cell_type": "code",
   "execution_count": 4,
   "metadata": {},
   "outputs": [
    {
     "data": {
      "application/vnd.jupyter.widget-view+json": {
       "model_id": "72ecb167afa94a36affcc0c728f214e2",
       "version_major": 2,
       "version_minor": 0
      },
      "text/plain": [
       "HBox(children=(VBox(children=(FloatSlider(value=0.0, description='推論結果', layout=Layout(width='400px'), max=1.0…"
      ]
     },
     "metadata": {},
     "output_type": "display_data"
    }
   ],
   "source": [
    "import traitlets\n",
    "from IPython.display import display\n",
    "from ipywidgets import Layout, Button, Box\n",
    "import ipywidgets.widgets as widgets\n",
    "\n",
    "network_output_slider = widgets.FloatSlider(description='推論結果', min=-1.0, max=1.0, value=0, step=0.01, orientation='horizontal', disabled=False, layout={'width': '400px'})\n",
    "steering_gain_slider  = widgets.FloatSlider(description='ゲイン', min=-1.0, max=1.0, value=-0.7, step=0.01, orientation='horizontal', layout={'width': '300px'})\n",
    "steering_bias_slider  = widgets.FloatSlider(description='バイアス', min=-0.5, max=0.5, value=-0.1, step=0.01, orientation='horizontal', layout={'width': '300px'})\n",
    "steering_value_slider = widgets.FloatSlider(description='ハンドル値', min=-1.0, max=1.0, value=0, step=0.01, orientation='horizontal', disabled=False, layout={'width': '400px'})\n",
    "throttle_slider = widgets.FloatSlider(description='速度(正:前, 負:後)', min=-1.0, max=1.0, value=0, step=0.01, orientation='vertical')\n",
    "\n",
    "\n",
    "steering_gain_link   = traitlets.link((steering_gain_slider, 'value'), (car, 'steering_gain'))\n",
    "steering_offset_link = traitlets.link((steering_bias_slider, 'value'), (car, 'steering_offset'))\n",
    "#steering_value_link  = traitlets.link((steering_value_slider, 'value'), (car, 'steering'))\n",
    "#throttle_slider_link = traitlets.link((throttle_slider, 'value'), (car, 'throttle'))\n",
    "\n",
    "display(\n",
    "    widgets.HBox(\n",
    "        [widgets.VBox([network_output_slider,\n",
    "                       widgets.Label(value=\"X\"),\n",
    "                       steering_gain_slider,\n",
    "                       widgets.Label(value=\"+\"),\n",
    "                       steering_bias_slider,\n",
    "                       widgets.Label(value=\"||\"), \n",
    "                       steering_value_slider], layout=Layout(\n",
    "                                                    align_items='center'\n",
    "                                                        )\n",
    "                     ), \n",
    "         live_execution_widget,\n",
    "         throttle_slider]\n",
    "    )\n",
    ")"
   ]
  },
  {
   "cell_type": "markdown",
   "metadata": {},
   "source": [
    "最後に、以下のセルを実行すると、頂点のx値に基づいてレースカーを操り、レースカーを前進させることができます。\n",
    "\n",
    "以下にヒントを示します。\n",
    "\n",
    "* 車が左右にふらつく場合は、ステアリングゲインを下げてください。\n",
    "* 車が曲がりきれない場合は、ステアリングゲインを上げる。\n",
    "* 車が右に傾いている場合は、ステアリングバイアスをよりネガティブにする（-0.05のような小さな単位で）。\n",
    "* 車が左に傾いたら、ステアリング・バイアスをよりポジティブにする（小刻みに +0.05）。"
   ]
  },
  {
   "cell_type": "code",
   "execution_count": 5,
   "metadata": {},
   "outputs": [],
   "source": [
    "from utils import preprocess\n",
    "from jetcam.utils import bgr8_to_jpeg\n",
    "\n",
    "def update(change):\n",
    "    global blocked_slider, robot\n",
    "    new_image = change['new'] \n",
    "    \n",
    "    image = preprocess(new_image).half()\n",
    "    mode = 1\n",
    "    if mode ==0:\n",
    "        #print(\"Mode Switch \")\n",
    "        #mode = 1\n",
    "        output = model_trt_1(image).detach().cpu().numpy().flatten()\n",
    "    else:\n",
    "        output = model_trt(image).detach().cpu().numpy().flatten()\n",
    "    \n",
    "    x = float(output[0])\n",
    "    #y = float(output[0])\n",
    "    y = float(output[1])\n",
    "    \n",
    "    network_output_slider.value = x\n",
    "    car.throttle = -1.0 * throttle_slider.value - 0.1 ## TT02用に修正\n",
    "    #car.throttle = y*-1.0 * throttle_slider.value - 0.1 ## TT02用に修正\n",
    "    steering = x * steering_gain_slider.value + steering_bias_slider.value\n",
    "    if(steering<-1.0):\n",
    "        steering_value_slider.value = -1.0\n",
    "    elif(steering>1.0):\n",
    "        steering_value_slider.value = 1.0\n",
    "    else:\n",
    "        steering_value_slider.value = -steering \n",
    "    car.steering = steering\n",
    "    \n",
    "    if(state_widget.value == 'On'):\n",
    "        x = int(camera.width * (x / 2.0 + 0.5))\n",
    "        y = int(camera.height * (y / 2.0 + 0.5))  \n",
    "        prediction = new_image.copy()\n",
    "        prediction = cv2.circle(prediction, (x, y), 8, (255, 0, 0), 3)\n",
    "        prediction_widget.value = bgr8_to_jpeg(prediction)\n",
    "        \n",
    "update({'new': camera.value})  # we call the function once to initialize"
   ]
  },
  {
   "cell_type": "markdown",
   "metadata": {},
   "source": [
    "下記コードを実行してカメラの映像が更新されたタイミングで、update()を読み込む処理を実行します。"
   ]
  },
  {
   "cell_type": "code",
   "execution_count": 6,
   "metadata": {},
   "outputs": [],
   "source": [
    "camera.observe(update, names='value') \n",
    "camera.running = True"
   ]
  },
  {
   "cell_type": "code",
   "execution_count": 7,
   "metadata": {},
   "outputs": [],
   "source": [
    "camera.running = False"
   ]
  },
  {
   "cell_type": "markdown",
   "metadata": {},
   "source": [
    "### データセットのタスクの定義"
   ]
  },
  {
   "cell_type": "code",
   "execution_count": 8,
   "metadata": {},
   "outputs": [],
   "source": [
    "import torchvision.transforms as transforms\n",
    "from xy_dataset import XYDataset\n",
    "\n",
    "TASK = 'road_following'\n",
    "\n",
    "CATEGORIES = ['apex']\n",
    "\n",
    "DATASETS = ['A','donkey']\n",
    "#DATASETS = ['A','donkey']\n",
    "\n",
    "TRANSFORMS = transforms.Compose([\n",
    "    transforms.ColorJitter(0.2, 0.2, 0.2, 0.2),\n",
    "    transforms.Resize((224, 224)),\n",
    "    transforms.ToTensor(),\n",
    "    transforms.Normalize([0.485, 0.456, 0.406], [0.229, 0.224, 0.225])\n",
    "])\n",
    "\n",
    "datasets = {}\n",
    "for name in DATASETS:\n",
    "    datasets[name] = XYDataset(TASK + '_' + name, CATEGORIES, TRANSFORMS, random_hflip=True)"
   ]
  },
  {
   "cell_type": "markdown",
   "metadata": {},
   "source": [
    "### データ収集(コントローラ操作用）"
   ]
  },
  {
   "cell_type": "code",
   "execution_count": null,
   "metadata": {},
   "outputs": [
    {
     "data": {
      "application/vnd.jupyter.widget-view+json": {
       "model_id": "1b2a40dc8fbf40dc8d49d49db2f241cd",
       "version_major": 2,
       "version_minor": 0
      },
      "text/plain": [
       "HBox(children=(VBox(children=(FloatSlider(value=0.1966552734375, description='推論結果', layout=Layout(width='400p…"
      ]
     },
     "metadata": {},
     "output_type": "display_data"
    },
    {
     "data": {
      "application/vnd.jupyter.widget-view+json": {
       "model_id": "f6ad13c82b634ddc9a6057fea36ec577",
       "version_major": 2,
       "version_minor": 0
      },
      "text/plain": [
       "VBox(children=(HBox(children=(ClickableImageWidget(value=b'\\xff\\xd8\\xff\\xe0\\x00\\x10JFIF\\x00\\x01\\x01\\x00\\x00\\x0…"
      ]
     },
     "metadata": {},
     "output_type": "display_data"
    },
    {
     "name": "stdout",
     "output_type": "stream",
     "text": [
      "Joystick Name: Logitech Gamepad F710\n",
      "Number of Button : 11\n",
      "Number of Axis : 6\n",
      "Number of Hats : 1\n",
      "Breaking!\n",
      "Breaking!\n",
      "Breaking!\n",
      "Breaking!\n",
      "Breaking!\n",
      "Breaking!\n",
      "Breaking!\n",
      "Breaking!\n",
      "Breaking!\n"
     ]
    }
   ],
   "source": [
    "import cv2\n",
    "import ipywidgets\n",
    "import threading\n",
    "\n",
    "state_widget = ipywidgets.ToggleButtons(options=['On', 'Off'], description='Camera', value='On')\n",
    "prediction_widget = ipywidgets.Image(format='jpeg', width=camera.width, height=camera.height)\n",
    "\n",
    "live_execution_widget = ipywidgets.VBox([\n",
    "    prediction_widget,\n",
    "    state_widget\n",
    "])\n",
    "import traitlets\n",
    "from IPython.display import display\n",
    "from ipywidgets import Layout, Button, Box\n",
    "import ipywidgets.widgets as widgets\n",
    "\n",
    "network_output_slider = widgets.FloatSlider(description='推論結果', min=-1.0, max=1.0, value=0, step=0.01, orientation='horizontal', disabled=False, layout={'width': '400px'})\n",
    "steering_gain_slider  = widgets.FloatSlider(description='ゲイン', min=-1.0, max=1.0, value=-0.7, step=0.01, orientation='horizontal', layout={'width': '300px'})\n",
    "steering_bias_slider  = widgets.FloatSlider(description='バイアス', min=-0.5, max=0.5, value=-0.1, step=0.01, orientation='horizontal', layout={'width': '300px'})\n",
    "steering_value_slider = widgets.FloatSlider(description='ハンドル値', min=-1.0, max=1.0, value=0, step=0.01, orientation='horizontal', disabled=False, layout={'width': '400px'})\n",
    "throttle_slider = widgets.FloatSlider(description='速度(正:前, 負:後)', min=-1.0, max=1.0, value=0, step=0.01, orientation='vertical')\n",
    "\n",
    "\n",
    "steering_gain_link   = traitlets.link((steering_gain_slider, 'value'), (car, 'steering_gain'))\n",
    "steering_offset_link = traitlets.link((steering_bias_slider, 'value'), (car, 'steering_offset'))\n",
    "#steering_value_link  = traitlets.link((steering_value_slider, 'value'), (car, 'steering'))\n",
    "#throttle_slider_link = traitlets.link((throttle_slider, 'value'), (car, 'throttle'))\n",
    "\n",
    "display(\n",
    "    widgets.HBox(\n",
    "        [widgets.VBox([network_output_slider,\n",
    "                       widgets.Label(value=\"X\"),\n",
    "                       steering_gain_slider,\n",
    "                       widgets.Label(value=\"+\"),\n",
    "                       steering_bias_slider,\n",
    "                       widgets.Label(value=\"||\"), \n",
    "                       steering_value_slider], layout=Layout(\n",
    "                                                    align_items='center'\n",
    "                                                        )\n",
    "                     ), \n",
    "         live_execution_widget,\n",
    "         throttle_slider]\n",
    "    )\n",
    ")\n",
    "\n",
    "from utils import preprocess\n",
    "from jetcam.utils import bgr8_to_jpeg\n",
    "\n",
    "def update(change):\n",
    "    global blocked_slider, robot\n",
    "    new_image = change['new'] \n",
    "    \n",
    "    image = preprocess(new_image).half()\n",
    "    mode = 1\n",
    "    if mode ==0:\n",
    "        #print(\"Mode Switch \")\n",
    "        #mode = 1\n",
    "        output = model_trt_1(image).detach().cpu().numpy().flatten()\n",
    "    else:\n",
    "        output = model_trt(image).detach().cpu().numpy().flatten()\n",
    "    \n",
    "    x = float(output[0])\n",
    "    #y = float(output[0])\n",
    "    y = float(output[1])\n",
    "    \n",
    "    network_output_slider.value = x\n",
    "    car.throttle = -1.0 * throttle_slider.value - 0.1 ## TT02用に修正\n",
    "    #car.throttle = y*-1.0 * throttle_slider.value - 0.1 ## TT02用に修正\n",
    "    steering = x * steering_gain_slider.value + steering_bias_slider.value\n",
    "    if(steering<-1.0):\n",
    "        steering_value_slider.value = -1.0\n",
    "    elif(steering>1.0):\n",
    "        steering_value_slider.value = 1.0\n",
    "    else:\n",
    "        steering_value_slider.value = -steering \n",
    "    car.steering = steering\n",
    "    \n",
    "    if(state_widget.value == 'On'):\n",
    "        x = int(camera.width * (x / 2.0 + 0.5))\n",
    "        y = int(camera.height * (y / 2.0 + 0.5))  \n",
    "        prediction = new_image.copy()\n",
    "        prediction = cv2.circle(prediction, (x, y), 8, (255, 0, 0), 3)\n",
    "        prediction_widget.value = bgr8_to_jpeg(prediction)\n",
    "        \n",
    "update({'new': camera.value})  # we call the function once to initialize\n",
    "\n",
    "camera.running = True\n",
    "#~ここはデフォルトのデータ取り~~~~~~~\n",
    "import cv2\n",
    "import ipywidgets\n",
    "import traitlets\n",
    "from IPython.display import display\n",
    "from jetcam.utils import bgr8_to_jpeg\n",
    "from jupyter_clickable_image_widget import ClickableImageWidget\n",
    "\n",
    "# initialize active dataset\n",
    "dataset = datasets[DATASETS[0]]\n",
    "\n",
    "# unobserve all callbacks from camera in case we are running this cell for second time\n",
    "camera.unobserve_all()\n",
    "\n",
    "# create image preview\n",
    "camera_widget = ClickableImageWidget(width=camera.width, height=camera.height)\n",
    "snapshot_widget = ipywidgets.Image(width=camera.width, height=camera.height)\n",
    "traitlets.dlink((camera, 'value'), (camera_widget, 'value'), transform=bgr8_to_jpeg)\n",
    "\n",
    "# create widgets\n",
    "dataset_widget = ipywidgets.Dropdown(options=DATASETS, description='dataset')\n",
    "category_widget = ipywidgets.Dropdown(options=dataset.categories, description='category')\n",
    "count_widget = ipywidgets.IntText(description='count')\n",
    "\n",
    "# manually update counts at initialization\n",
    "count_widget.value = dataset.get_count(category_widget.value)\n",
    "\n",
    "# sets the active dataset\n",
    "def set_dataset(change):\n",
    "    global dataset\n",
    "    dataset = datasets[change['new']]\n",
    "    count_widget.value = dataset.get_count(category_widget.value)\n",
    "dataset_widget.observe(set_dataset, names='value')\n",
    "\n",
    "# update counts when we select a new category\n",
    "def update_counts(change):\n",
    "    count_widget.value = dataset.get_count(change['new'])\n",
    "category_widget.observe(update_counts, names='value')\n",
    "\n",
    "def save_snapshot(_, content, msg):\n",
    "    if content['event'] == 'click':\n",
    "        data = content['eventData']\n",
    "        x = data['offsetX']\n",
    "        y = data['offsetY']\n",
    "        # save to disk\n",
    "        dataset.save_entry(category_widget.value, camera.value, x, y)       \n",
    "        # display saved snapshot\n",
    "        snapshot = camera.value.copy()\n",
    "        snapshot = cv2.circle(snapshot, (x, y), 8, (0, 255, 0), 3)\n",
    "        snapshot_widget.value = bgr8_to_jpeg(snapshot)\n",
    "        count_widget.value = dataset.get_count(category_widget.value)\n",
    "camera_widget.on_msg(save_snapshot)\n",
    "data_collection_widget = ipywidgets.VBox([\n",
    "    ipywidgets.HBox([camera_widget, snapshot_widget]),\n",
    "    dataset_widget,\n",
    "    category_widget,\n",
    "    count_widget\n",
    "])\n",
    "display(data_collection_widget)\n",
    "\n",
    "#~ここからｺﾝﾄﾛｰﾗ~~~~~~~\n",
    "import time\n",
    "import pygame\n",
    "import math\n",
    "import numpy as np\n",
    "from pygame.locals import *\n",
    "from Adafruit_GPIO import I2C\n",
    "\n",
    "# pygameの初期化\n",
    "pygame.init()\n",
    "# ジョイスティックの初期化\n",
    "pygame.joystick.init()\n",
    "try:\n",
    "    # ジョイスティックインスタンスの生成\n",
    "    joystick = pygame.joystick.Joystick(0)\n",
    "    joystick.init()\n",
    "    print(\"Joystick Name: \" + joystick.get_name())\n",
    "    print(\"Number of Button : \" + str(joystick.get_numbuttons()))\n",
    "    print(\"Number of Axis : \" + str(joystick.get_numaxes()))\n",
    "    print(\"Number of Hats : \" + str(joystick.get_numhats()))\n",
    "except pygame.error:\n",
    "    print('ジョイスティックが接続されていません')\n",
    "\n",
    "def expocurve(val):\n",
    "    if val >0:\n",
    "        return (math.exp(val)-1)/(math.e-1)\n",
    "    else:\n",
    "        return (math.exp(val*-1)-1)/(math.e-1)*-1\n",
    "         \n",
    "# F710の操作設定\n",
    "# スティック\n",
    "# 左スティック#０：左右、１：上下\n",
    "# 右スティック#３：左右、４：上下\n",
    "axis_steer = 0\n",
    "axis_accel = 4\n",
    "# ボタン\n",
    "# 8: 'back', 9: 'start', 10: 'Logitech',\n",
    "# 0: 'A', 1: 'B', 2: 'X', 3: 'Y',\n",
    "# 4: 'LB',7: 'R1',8: 'right_stick_press',\n",
    "button_A = 0\n",
    "button_B = 1\n",
    "button_Y = 3\n",
    "button_X = 2\n",
    "button_S = 7\n",
    "\n",
    "##スティックの指数関数変換\n",
    "mode =\"exp\"\n",
    "\n",
    "def save_snapshot_js2v(steering, throttle):\n",
    "        x = steering *-1 #マシン毎要調整\n",
    "        y = throttle *-1 #マシン毎要調整\n",
    "        x = int(camera.width * (x / 2.0 + 0.5))\n",
    "        y = int(camera.height * (y / 2.0 + 0.5))  \n",
    "\n",
    "        # save to disk\n",
    "        dataset.save_entry(category_widget.value, camera.value, x, y)\n",
    "        \n",
    "        # display saved snapshot\n",
    "        min, mid, max = 52, 112, 171 #出力画像値の設定、マシン毎\n",
    "        snapshot = camera.value.copy()\n",
    "        snapshot = cv2.circle(snapshot, (x, y), 8, (0, 255, 0), 3)\n",
    "        snapshot = cv2.line(snapshot, (mid, min), (mid, max), (255, 255, 255), thickness=1, lineType=cv2.LINE_4)\n",
    "        snapshot = cv2.line(snapshot, (min, mid), (max, mid), (255, 255, 255), thickness=1, lineType=cv2.LINE_4)\n",
    "        snapshot = cv2.rectangle(snapshot, (min, min), (max, max), (0, 255, 0)) #マシン毎要調整 52,171, (112)\n",
    "        snapshot = cv2.putText(snapshot, (str(x)+\":\"+str(y)), (x-50, y-30), cv2.FONT_HERSHEY_DUPLEX, 1, (0, 255, 0), 2, 8)\n",
    "        snapshot_widget.value = bgr8_to_jpeg(snapshot)\n",
    "        count_widget.value = dataset.get_count(category_widget.value)\n",
    "        \n",
    "AI = True\n",
    "running = True\n",
    "while running:\n",
    "    for e in pygame.event.get():\n",
    "        A =joystick.get_button(button_A)\n",
    "        B =joystick.get_button(button_B)\n",
    "        Y =joystick.get_button(button_Y)\n",
    "        X =joystick.get_button(button_X)\n",
    "        S =joystick.get_button(button_S)\n",
    "\n",
    "        if A : \n",
    "            camera.unobserve_all()\n",
    "            AI = False\n",
    "            #camera.running = False\n",
    "            print(\"Breaking!\")\n",
    "            car.steering = 0\n",
    "            car.throttle = -0.5\n",
    "            time.sleep(0.05)            \n",
    "            car.throttle = 0\n",
    "            time.sleep(0.02)            \n",
    "            car.throttle = -0.5\n",
    "            time.sleep(0.02)            \n",
    "            car.throttle = 0\n",
    "\n",
    "        if X:\n",
    "            camera.running = not(camera.running)\n",
    "            if camera.running:\n",
    "                AI = True\n",
    "                camera.observe(update, names='value') \n",
    "                print(\"Start camera/AI running...\")\n",
    "            else:\n",
    "                camera.unobserve_all()\n",
    "                AI = False\n",
    "                print(\"Stop camera/AI running...\")\n",
    "\n",
    "        if Y or B:  \n",
    "            save_snapshot_js2v(car.steering,car.throttle)\n",
    "            print(\"Get running data!\") \n",
    "\n",
    "        if S:\n",
    "            running = False\n",
    "            print(\"Stop controlling...\")\n",
    "\n",
    "        if AI == True:\n",
    "            pass\n",
    "        elif mode == \"exp\":\n",
    "            car.steering = expocurve(round(joystick.get_axis(axis_steer),2) *-1   *0.65)\n",
    "            car.throttle = expocurve(round(joystick.get_axis(axis_accel),2) *-1   *0.65)\n",
    "        else:\n",
    "            car.steering = round(joystick.get_axis(axis_steer),2) *-1   *0.65 #マシン毎調性\n",
    "            car.throttle = round(joystick.get_axis(axis_accel),2) *-1   *0.65 #マシン毎調性\n"
   ]
  },
  {
   "cell_type": "markdown",
   "metadata": {},
   "source": [
    "# カメラの終了処理(必須)\n",
    "再度、データセット追加や学習は、'02_inreragtive_regression.ipynb'に戻りおこないます。\n",
    "その際に、下記セルを実行して、カメラの終了処理を忘れずにおこなってください。"
   ]
  },
  {
   "cell_type": "code",
   "execution_count": 26,
   "metadata": {},
   "outputs": [],
   "source": [
    "import time\n",
    "camera.running = False\n",
    "time.sleep(1)\n",
    "camera.cap.release()"
   ]
  },
  {
   "cell_type": "code",
   "execution_count": null,
   "metadata": {},
   "outputs": [],
   "source": []
  }
 ],
 "metadata": {
  "kernelspec": {
   "display_name": "Python 3",
   "language": "python",
   "name": "python3"
  },
  "language_info": {
   "codemirror_mode": {
    "name": "ipython",
    "version": 3
   },
   "file_extension": ".py",
   "mimetype": "text/x-python",
   "name": "python",
   "nbconvert_exporter": "python",
   "pygments_lexer": "ipython3",
   "version": "3.6.9"
  }
 },
 "nbformat": 4,
 "nbformat_minor": 4
}
